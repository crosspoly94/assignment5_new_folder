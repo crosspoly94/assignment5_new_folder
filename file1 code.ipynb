{
 "cells": [
  {
   "cell_type": "markdown",
   "id": "efe4b1d1-a48f-4c3d-a1f7-8f2a29770dc8",
   "metadata": {},
   "source": [
    "### this is a first code"
   ]
  },
  {
   "cell_type": "code",
   "execution_count": 1,
   "id": "576d26f6-6af2-4e8e-9d0e-2c698351c79a",
   "metadata": {},
   "outputs": [],
   "source": [
    "nums=[1,2,3,4]\n",
    "A=[]\n",
    "for i in nums:\n",
    "    A.append(i**2)\n",
    "    \n"
   ]
  },
  {
   "cell_type": "code",
   "execution_count": 2,
   "id": "0b43676e-659c-4701-91bd-a4a1e31c3f20",
   "metadata": {},
   "outputs": [
    {
     "data": {
      "text/plain": [
       "[1, 4, 9, 16]"
      ]
     },
     "execution_count": 2,
     "metadata": {},
     "output_type": "execute_result"
    }
   ],
   "source": [
    "A "
   ]
  },
  {
   "cell_type": "code",
   "execution_count": null,
   "id": "f5ffe1d8-feb7-46b7-b35e-5a1846b662ef",
   "metadata": {},
   "outputs": [],
   "source": []
  }
 ],
 "metadata": {
  "kernelspec": {
   "display_name": "Python 3 (ipykernel)",
   "language": "python",
   "name": "python3"
  },
  "language_info": {
   "codemirror_mode": {
    "name": "ipython",
    "version": 3
   },
   "file_extension": ".py",
   "mimetype": "text/x-python",
   "name": "python",
   "nbconvert_exporter": "python",
   "pygments_lexer": "ipython3",
   "version": "3.9.12"
  }
 },
 "nbformat": 4,
 "nbformat_minor": 5
}
